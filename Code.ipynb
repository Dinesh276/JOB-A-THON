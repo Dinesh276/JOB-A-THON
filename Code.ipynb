{
 "cells": [
  {
   "cell_type": "markdown",
   "metadata": {},
   "source": [
    "mode \n",
    "rai\n",
    "mode"
   ]
  },
  {
   "cell_type": "markdown",
   "metadata": {},
   "source": [
    "# 1.\n",
    "## Importing all the needed libraries"
   ]
  },
  {
   "cell_type": "code",
   "execution_count": 52,
   "metadata": {
    "ExecuteTime": {
     "end_time": "2021-02-28T15:48:37.159387Z",
     "start_time": "2021-02-28T15:48:36.487505Z"
    }
   },
   "outputs": [],
   "source": [
    "%matplotlib inline\n",
    "import numpy as np\n",
    "import pandas as pd\n",
    "import matplotlib.pyplot as plt\n",
    "import seaborn as sns\n",
    "\n",
    "from sklearn import metrics\n",
    "from sklearn.metrics import roc_auc_score\n",
    "from sklearn.metrics import confusion_matrix\n",
    "from sklearn.preprocessing import LabelEncoder\n",
    "\n",
    "from sklearn.linear_model import LogisticRegression\n",
    "from sklearn.tree import DecisionTreeRegressor\n",
    "from sklearn.neighbors import KNeighborsRegressor\n"
   ]
  },
  {
   "cell_type": "markdown",
   "metadata": {},
   "source": [
    "# 2.\n",
    "## Importing our dataset "
   ]
  },
  {
   "cell_type": "code",
   "execution_count": 2,
   "metadata": {
    "ExecuteTime": {
     "end_time": "2021-02-28T15:36:42.784311Z",
     "start_time": "2021-02-28T15:36:42.553148Z"
    }
   },
   "outputs": [],
   "source": [
    "# training dataset is used by train variable\n",
    "train=pd.read_csv('train_Df64byy.csv')\n",
    "# testing dataset is used by test variable\n",
    "test=pd.read_csv('test_YCcRUnU.csv')\n"
   ]
  },
  {
   "cell_type": "markdown",
   "metadata": {},
   "source": [
    "# 3.\n",
    "## Data Basic info"
   ]
  },
  {
   "cell_type": "code",
   "execution_count": 3,
   "metadata": {
    "ExecuteTime": {
     "end_time": "2021-02-28T15:36:42.889386Z",
     "start_time": "2021-02-28T15:36:42.789315Z"
    }
   },
   "outputs": [
    {
     "name": "stdout",
     "output_type": "stream",
     "text": [
      "<class 'pandas.core.frame.DataFrame'>\n",
      "RangeIndex: 50882 entries, 0 to 50881\n",
      "Data columns (total 14 columns):\n",
      " #   Column                   Non-Null Count  Dtype  \n",
      "---  ------                   --------------  -----  \n",
      " 0   ID                       50882 non-null  int64  \n",
      " 1   City_Code                50882 non-null  object \n",
      " 2   Region_Code              50882 non-null  int64  \n",
      " 3   Accomodation_Type        50882 non-null  object \n",
      " 4   Reco_Insurance_Type      50882 non-null  object \n",
      " 5   Upper_Age                50882 non-null  int64  \n",
      " 6   Lower_Age                50882 non-null  int64  \n",
      " 7   Is_Spouse                50882 non-null  object \n",
      " 8   Health Indicator         39191 non-null  object \n",
      " 9   Holding_Policy_Duration  30631 non-null  object \n",
      " 10  Holding_Policy_Type      30631 non-null  float64\n",
      " 11  Reco_Policy_Cat          50882 non-null  int64  \n",
      " 12  Reco_Policy_Premium      50882 non-null  float64\n",
      " 13  Response                 50882 non-null  int64  \n",
      "dtypes: float64(2), int64(6), object(6)\n",
      "memory usage: 5.4+ MB\n",
      "None\n",
      "\n",
      "\n",
      "...........................................................................\n",
      "\n",
      "\n",
      "<class 'pandas.core.frame.DataFrame'>\n",
      "RangeIndex: 21805 entries, 0 to 21804\n",
      "Data columns (total 13 columns):\n",
      " #   Column                   Non-Null Count  Dtype  \n",
      "---  ------                   --------------  -----  \n",
      " 0   ID                       21805 non-null  int64  \n",
      " 1   City_Code                21805 non-null  object \n",
      " 2   Region_Code              21805 non-null  int64  \n",
      " 3   Accomodation_Type        21805 non-null  object \n",
      " 4   Reco_Insurance_Type      21805 non-null  object \n",
      " 5   Upper_Age                21805 non-null  int64  \n",
      " 6   Lower_Age                21805 non-null  int64  \n",
      " 7   Is_Spouse                21805 non-null  object \n",
      " 8   Health Indicator         16778 non-null  object \n",
      " 9   Holding_Policy_Duration  13202 non-null  object \n",
      " 10  Holding_Policy_Type      13202 non-null  float64\n",
      " 11  Reco_Policy_Cat          21805 non-null  int64  \n",
      " 12  Reco_Policy_Premium      21805 non-null  float64\n",
      "dtypes: float64(2), int64(5), object(6)\n",
      "memory usage: 2.2+ MB\n",
      "None\n"
     ]
    }
   ],
   "source": [
    "print(train.info())\n",
    "print('\\n')\n",
    "print('...........................................................................')\n",
    "print('\\n')\n",
    "print(test.info())"
   ]
  },
  {
   "cell_type": "code",
   "execution_count": 4,
   "metadata": {
    "ExecuteTime": {
     "end_time": "2021-02-28T15:36:43.032808Z",
     "start_time": "2021-02-28T15:36:42.894391Z"
    }
   },
   "outputs": [
    {
     "name": "stdout",
     "output_type": "stream",
     "text": [
      "ID                             0\n",
      "City_Code                      0\n",
      "Region_Code                    0\n",
      "Accomodation_Type              0\n",
      "Reco_Insurance_Type            0\n",
      "Upper_Age                      0\n",
      "Lower_Age                      0\n",
      "Is_Spouse                      0\n",
      "Health Indicator           11691\n",
      "Holding_Policy_Duration    20251\n",
      "Holding_Policy_Type        20251\n",
      "Reco_Policy_Cat                0\n",
      "Reco_Policy_Premium            0\n",
      "Response                       0\n",
      "dtype: int64\n",
      "\n",
      "\n",
      "...........................................................................\n",
      "\n",
      "\n",
      "ID                            0\n",
      "City_Code                     0\n",
      "Region_Code                   0\n",
      "Accomodation_Type             0\n",
      "Reco_Insurance_Type           0\n",
      "Upper_Age                     0\n",
      "Lower_Age                     0\n",
      "Is_Spouse                     0\n",
      "Health Indicator           5027\n",
      "Holding_Policy_Duration    8603\n",
      "Holding_Policy_Type        8603\n",
      "Reco_Policy_Cat               0\n",
      "Reco_Policy_Premium           0\n",
      "dtype: int64\n"
     ]
    }
   ],
   "source": [
    "# Finding the number of missing value in our dataset.\n",
    "print(train.isna().sum())\n",
    "print('\\n')\n",
    "print('...........................................................................')\n",
    "print('\\n')\n",
    "print(test.isna().sum())"
   ]
  },
  {
   "cell_type": "code",
   "execution_count": 5,
   "metadata": {
    "ExecuteTime": {
     "end_time": "2021-02-28T15:36:43.267188Z",
     "start_time": "2021-02-28T15:36:43.032808Z"
    }
   },
   "outputs": [
    {
     "data": {
      "text/html": [
       "<div>\n",
       "<style scoped>\n",
       "    .dataframe tbody tr th:only-of-type {\n",
       "        vertical-align: middle;\n",
       "    }\n",
       "\n",
       "    .dataframe tbody tr th {\n",
       "        vertical-align: top;\n",
       "    }\n",
       "\n",
       "    .dataframe thead th {\n",
       "        text-align: right;\n",
       "    }\n",
       "</style>\n",
       "<table border=\"1\" class=\"dataframe\">\n",
       "  <thead>\n",
       "    <tr style=\"text-align: right;\">\n",
       "      <th></th>\n",
       "      <th>ID</th>\n",
       "      <th>Region_Code</th>\n",
       "      <th>Upper_Age</th>\n",
       "      <th>Lower_Age</th>\n",
       "      <th>Holding_Policy_Type</th>\n",
       "      <th>Reco_Policy_Cat</th>\n",
       "      <th>Reco_Policy_Premium</th>\n",
       "      <th>Response</th>\n",
       "    </tr>\n",
       "  </thead>\n",
       "  <tbody>\n",
       "    <tr>\n",
       "      <th>count</th>\n",
       "      <td>50882.000000</td>\n",
       "      <td>50882.000000</td>\n",
       "      <td>50882.000000</td>\n",
       "      <td>50882.000000</td>\n",
       "      <td>30631.000000</td>\n",
       "      <td>50882.000000</td>\n",
       "      <td>50882.000000</td>\n",
       "      <td>50882.000000</td>\n",
       "    </tr>\n",
       "    <tr>\n",
       "      <th>mean</th>\n",
       "      <td>25441.500000</td>\n",
       "      <td>1732.788707</td>\n",
       "      <td>44.856275</td>\n",
       "      <td>42.738866</td>\n",
       "      <td>2.439228</td>\n",
       "      <td>15.115188</td>\n",
       "      <td>14183.950069</td>\n",
       "      <td>0.239947</td>\n",
       "    </tr>\n",
       "    <tr>\n",
       "      <th>std</th>\n",
       "      <td>14688.512535</td>\n",
       "      <td>1424.081652</td>\n",
       "      <td>17.310271</td>\n",
       "      <td>17.319375</td>\n",
       "      <td>1.025923</td>\n",
       "      <td>6.340663</td>\n",
       "      <td>6590.074873</td>\n",
       "      <td>0.427055</td>\n",
       "    </tr>\n",
       "    <tr>\n",
       "      <th>min</th>\n",
       "      <td>1.000000</td>\n",
       "      <td>1.000000</td>\n",
       "      <td>18.000000</td>\n",
       "      <td>16.000000</td>\n",
       "      <td>1.000000</td>\n",
       "      <td>1.000000</td>\n",
       "      <td>2280.000000</td>\n",
       "      <td>0.000000</td>\n",
       "    </tr>\n",
       "    <tr>\n",
       "      <th>25%</th>\n",
       "      <td>12721.250000</td>\n",
       "      <td>523.000000</td>\n",
       "      <td>28.000000</td>\n",
       "      <td>27.000000</td>\n",
       "      <td>1.000000</td>\n",
       "      <td>12.000000</td>\n",
       "      <td>9248.000000</td>\n",
       "      <td>0.000000</td>\n",
       "    </tr>\n",
       "    <tr>\n",
       "      <th>50%</th>\n",
       "      <td>25441.500000</td>\n",
       "      <td>1391.000000</td>\n",
       "      <td>44.000000</td>\n",
       "      <td>40.000000</td>\n",
       "      <td>3.000000</td>\n",
       "      <td>17.000000</td>\n",
       "      <td>13178.000000</td>\n",
       "      <td>0.000000</td>\n",
       "    </tr>\n",
       "    <tr>\n",
       "      <th>75%</th>\n",
       "      <td>38161.750000</td>\n",
       "      <td>2667.000000</td>\n",
       "      <td>59.000000</td>\n",
       "      <td>57.000000</td>\n",
       "      <td>3.000000</td>\n",
       "      <td>20.000000</td>\n",
       "      <td>18096.000000</td>\n",
       "      <td>0.000000</td>\n",
       "    </tr>\n",
       "    <tr>\n",
       "      <th>max</th>\n",
       "      <td>50882.000000</td>\n",
       "      <td>6194.000000</td>\n",
       "      <td>75.000000</td>\n",
       "      <td>75.000000</td>\n",
       "      <td>4.000000</td>\n",
       "      <td>22.000000</td>\n",
       "      <td>43350.400000</td>\n",
       "      <td>1.000000</td>\n",
       "    </tr>\n",
       "  </tbody>\n",
       "</table>\n",
       "</div>"
      ],
      "text/plain": [
       "                 ID   Region_Code     Upper_Age     Lower_Age  \\\n",
       "count  50882.000000  50882.000000  50882.000000  50882.000000   \n",
       "mean   25441.500000   1732.788707     44.856275     42.738866   \n",
       "std    14688.512535   1424.081652     17.310271     17.319375   \n",
       "min        1.000000      1.000000     18.000000     16.000000   \n",
       "25%    12721.250000    523.000000     28.000000     27.000000   \n",
       "50%    25441.500000   1391.000000     44.000000     40.000000   \n",
       "75%    38161.750000   2667.000000     59.000000     57.000000   \n",
       "max    50882.000000   6194.000000     75.000000     75.000000   \n",
       "\n",
       "       Holding_Policy_Type  Reco_Policy_Cat  Reco_Policy_Premium      Response  \n",
       "count         30631.000000     50882.000000         50882.000000  50882.000000  \n",
       "mean              2.439228        15.115188         14183.950069      0.239947  \n",
       "std               1.025923         6.340663          6590.074873      0.427055  \n",
       "min               1.000000         1.000000          2280.000000      0.000000  \n",
       "25%               1.000000        12.000000          9248.000000      0.000000  \n",
       "50%               3.000000        17.000000         13178.000000      0.000000  \n",
       "75%               3.000000        20.000000         18096.000000      0.000000  \n",
       "max               4.000000        22.000000         43350.400000      1.000000  "
      ]
     },
     "execution_count": 5,
     "metadata": {},
     "output_type": "execute_result"
    }
   ],
   "source": [
    "train.describe()"
   ]
  },
  {
   "cell_type": "code",
   "execution_count": 6,
   "metadata": {
    "ExecuteTime": {
     "end_time": "2021-02-28T15:36:43.407818Z",
     "start_time": "2021-02-28T15:36:43.267188Z"
    }
   },
   "outputs": [
    {
     "data": {
      "text/html": [
       "<div>\n",
       "<style scoped>\n",
       "    .dataframe tbody tr th:only-of-type {\n",
       "        vertical-align: middle;\n",
       "    }\n",
       "\n",
       "    .dataframe tbody tr th {\n",
       "        vertical-align: top;\n",
       "    }\n",
       "\n",
       "    .dataframe thead th {\n",
       "        text-align: right;\n",
       "    }\n",
       "</style>\n",
       "<table border=\"1\" class=\"dataframe\">\n",
       "  <thead>\n",
       "    <tr style=\"text-align: right;\">\n",
       "      <th></th>\n",
       "      <th>ID</th>\n",
       "      <th>Region_Code</th>\n",
       "      <th>Upper_Age</th>\n",
       "      <th>Lower_Age</th>\n",
       "      <th>Holding_Policy_Type</th>\n",
       "      <th>Reco_Policy_Cat</th>\n",
       "      <th>Reco_Policy_Premium</th>\n",
       "    </tr>\n",
       "  </thead>\n",
       "  <tbody>\n",
       "    <tr>\n",
       "      <th>count</th>\n",
       "      <td>21805.000000</td>\n",
       "      <td>21805.000000</td>\n",
       "      <td>21805.000000</td>\n",
       "      <td>21805.000000</td>\n",
       "      <td>13202.000000</td>\n",
       "      <td>21805.000000</td>\n",
       "      <td>21805.000000</td>\n",
       "    </tr>\n",
       "    <tr>\n",
       "      <th>mean</th>\n",
       "      <td>61785.000000</td>\n",
       "      <td>1748.737491</td>\n",
       "      <td>44.877734</td>\n",
       "      <td>42.748085</td>\n",
       "      <td>2.440085</td>\n",
       "      <td>15.138363</td>\n",
       "      <td>14220.306581</td>\n",
       "    </tr>\n",
       "    <tr>\n",
       "      <th>std</th>\n",
       "      <td>6294.705646</td>\n",
       "      <td>1438.358949</td>\n",
       "      <td>17.254898</td>\n",
       "      <td>17.269112</td>\n",
       "      <td>1.037627</td>\n",
       "      <td>6.302805</td>\n",
       "      <td>6497.996164</td>\n",
       "    </tr>\n",
       "    <tr>\n",
       "      <th>min</th>\n",
       "      <td>50883.000000</td>\n",
       "      <td>1.000000</td>\n",
       "      <td>18.000000</td>\n",
       "      <td>16.000000</td>\n",
       "      <td>1.000000</td>\n",
       "      <td>1.000000</td>\n",
       "      <td>2152.000000</td>\n",
       "    </tr>\n",
       "    <tr>\n",
       "      <th>25%</th>\n",
       "      <td>56334.000000</td>\n",
       "      <td>535.000000</td>\n",
       "      <td>28.000000</td>\n",
       "      <td>27.000000</td>\n",
       "      <td>1.000000</td>\n",
       "      <td>12.000000</td>\n",
       "      <td>9285.000000</td>\n",
       "    </tr>\n",
       "    <tr>\n",
       "      <th>50%</th>\n",
       "      <td>61785.000000</td>\n",
       "      <td>1392.000000</td>\n",
       "      <td>44.000000</td>\n",
       "      <td>41.000000</td>\n",
       "      <td>3.000000</td>\n",
       "      <td>17.000000</td>\n",
       "      <td>13244.000000</td>\n",
       "    </tr>\n",
       "    <tr>\n",
       "      <th>75%</th>\n",
       "      <td>67236.000000</td>\n",
       "      <td>2712.000000</td>\n",
       "      <td>59.000000</td>\n",
       "      <td>57.000000</td>\n",
       "      <td>3.000000</td>\n",
       "      <td>20.000000</td>\n",
       "      <td>18201.600000</td>\n",
       "    </tr>\n",
       "    <tr>\n",
       "      <th>max</th>\n",
       "      <td>72687.000000</td>\n",
       "      <td>6185.000000</td>\n",
       "      <td>75.000000</td>\n",
       "      <td>75.000000</td>\n",
       "      <td>4.000000</td>\n",
       "      <td>22.000000</td>\n",
       "      <td>43776.000000</td>\n",
       "    </tr>\n",
       "  </tbody>\n",
       "</table>\n",
       "</div>"
      ],
      "text/plain": [
       "                 ID   Region_Code     Upper_Age     Lower_Age  \\\n",
       "count  21805.000000  21805.000000  21805.000000  21805.000000   \n",
       "mean   61785.000000   1748.737491     44.877734     42.748085   \n",
       "std     6294.705646   1438.358949     17.254898     17.269112   \n",
       "min    50883.000000      1.000000     18.000000     16.000000   \n",
       "25%    56334.000000    535.000000     28.000000     27.000000   \n",
       "50%    61785.000000   1392.000000     44.000000     41.000000   \n",
       "75%    67236.000000   2712.000000     59.000000     57.000000   \n",
       "max    72687.000000   6185.000000     75.000000     75.000000   \n",
       "\n",
       "       Holding_Policy_Type  Reco_Policy_Cat  Reco_Policy_Premium  \n",
       "count         13202.000000     21805.000000         21805.000000  \n",
       "mean              2.440085        15.138363         14220.306581  \n",
       "std               1.037627         6.302805          6497.996164  \n",
       "min               1.000000         1.000000          2152.000000  \n",
       "25%               1.000000        12.000000          9285.000000  \n",
       "50%               3.000000        17.000000         13244.000000  \n",
       "75%               3.000000        20.000000         18201.600000  \n",
       "max               4.000000        22.000000         43776.000000  "
      ]
     },
     "execution_count": 6,
     "metadata": {},
     "output_type": "execute_result"
    }
   ],
   "source": [
    "test.describe()"
   ]
  },
  {
   "cell_type": "markdown",
   "metadata": {},
   "source": [
    "# 4.\n",
    "##  Handling Missing data"
   ]
  },
  {
   "cell_type": "markdown",
   "metadata": {},
   "source": [
    "### A. Holding_Policy_Type"
   ]
  },
  {
   "cell_type": "code",
   "execution_count": 7,
   "metadata": {
    "ExecuteTime": {
     "end_time": "2021-02-28T15:36:43.889544Z",
     "start_time": "2021-02-28T15:36:43.407818Z"
    }
   },
   "outputs": [
    {
     "data": {
      "text/plain": [
       "<AxesSubplot:>"
      ]
     },
     "execution_count": 7,
     "metadata": {},
     "output_type": "execute_result"
    },
    {
     "data": {
      "image/png": "[encoded data removed]",
      "text/plain": [
       "<Figure size 432x288 with 1 Axes>"
      ]
     },
     "metadata": {
      "needs_background": "light"
     },
     "output_type": "display_data"
    }
   ],
   "source": [
    "test['Holding_Policy_Type'].value_counts().plot(kind='bar')"
   ]
  },
  {
   "cell_type": "code",
   "execution_count": 8,
   "metadata": {
    "ExecuteTime": {
     "end_time": "2021-02-28T15:36:44.583567Z",
     "start_time": "2021-02-28T15:36:43.899549Z"
    }
   },
   "outputs": [
    {
     "data": {
      "text/plain": [
       "<AxesSubplot:xlabel='Holding_Policy_Type', ylabel='count'>"
      ]
     },
     "execution_count": 8,
     "metadata": {},
     "output_type": "execute_result"
    },
    {
     "data": {
      "image/png": "[encoded data removed]",
      "text/plain": [
       "<Figure size 432x288 with 1 Axes>"
      ]
     },
     "metadata": {
      "needs_background": "light"
     },
     "output_type": "display_data"
    }
   ],
   "source": [
    "sns.countplot(x=train['Holding_Policy_Type'].astype(str),hue=train['Response'])"
   ]
  },
  {
   "cell_type": "code",
   "execution_count": null,
   "metadata": {},
   "outputs": [],
   "source": [
    "train['HPT_miss']=np.where(train['Holding_Policy_Type'].isna(),1,0)"
   ]
  },
  {
   "cell_type": "code",
   "execution_count": 9,
   "metadata": {
    "ExecuteTime": {
     "end_time": "2021-02-28T15:36:44.599192Z",
     "start_time": "2021-02-28T15:36:44.583567Z"
    }
   },
   "outputs": [],
   "source": [
    "train['Holding_Policy_Type']=train['Holding_Policy_Type'].fillna(train['Holding_Policy_Type'].mode()[0])"
   ]
  },
  {
   "cell_type": "code",
   "execution_count": 10,
   "metadata": {
    "ExecuteTime": {
     "end_time": "2021-02-28T15:36:44.950553Z",
     "start_time": "2021-02-28T15:36:44.599192Z"
    }
   },
   "outputs": [],
   "source": [
    "test['Holding_Policy_Type']=test['Holding_Policy_Type'].fillna(test['Holding_Policy_Type'].mode()[0])"
   ]
  },
  {
   "cell_type": "code",
   "execution_count": 11,
   "metadata": {
    "ExecuteTime": {
     "end_time": "2021-02-28T15:36:45.138058Z",
     "start_time": "2021-02-28T15:36:44.950553Z"
    }
   },
   "outputs": [
    {
     "data": {
      "text/plain": [
       "(0, 0)"
      ]
     },
     "execution_count": 11,
     "metadata": {},
     "output_type": "execute_result"
    }
   ],
   "source": [
    "train['Holding_Policy_Type'].isna().sum(),test['Holding_Policy_Type'].isna().sum(),"
   ]
  },
  {
   "cell_type": "code",
   "execution_count": 12,
   "metadata": {
    "ExecuteTime": {
     "end_time": "2021-02-28T15:36:45.722844Z",
     "start_time": "2021-02-28T15:36:45.138058Z"
    }
   },
   "outputs": [
    {
     "data": {
      "text/plain": [
       "<AxesSubplot:xlabel='Holding_Policy_Type', ylabel='count'>"
      ]
     },
     "execution_count": 12,
     "metadata": {},
     "output_type": "execute_result"
    },
    {
     "data": {
      "image/png": "[encoded data removed]",
      "text/plain": [
       "<Figure size 432x288 with 1 Axes>"
      ]
     },
     "metadata": {
      "needs_background": "light"
     },
     "output_type": "display_data"
    }
   ],
   "source": [
    "sns.countplot(x=train['Holding_Policy_Type'].astype(str),hue=train['Response'])"
   ]
  },
  {
   "cell_type": "markdown",
   "metadata": {},
   "source": [
    "### B. Holding_Policy_Duration\n",
    "filling the missign values with the Random sample imputation"
   ]
  },
  {
   "cell_type": "code",
   "execution_count": 13,
   "metadata": {
    "ExecuteTime": {
     "end_time": "2021-02-28T15:36:46.134921Z",
     "start_time": "2021-02-28T15:36:45.726332Z"
    }
   },
   "outputs": [
    {
     "data": {
      "text/plain": [
       "<AxesSubplot:>"
      ]
     },
     "execution_count": 13,
     "metadata": {},
     "output_type": "execute_result"
    },
    {
     "data": {
      "image/png": "[encoded data removed]",
      "text/plain": [
       "<Figure size 432x288 with 1 Axes>"
      ]
     },
     "metadata": {
      "needs_background": "light"
     },
     "output_type": "display_data"
    }
   ],
   "source": [
    "train['Holding_Policy_Duration'].value_counts().plot(kind='bar')"
   ]
  },
  {
   "cell_type": "code",
   "execution_count": 14,
   "metadata": {
    "ExecuteTime": {
     "end_time": "2021-02-28T15:36:46.546358Z",
     "start_time": "2021-02-28T15:36:46.140422Z"
    }
   },
   "outputs": [
    {
     "data": {
      "text/plain": [
       "<AxesSubplot:>"
      ]
     },
     "execution_count": 14,
     "metadata": {},
     "output_type": "execute_result"
    },
    {
     "data": {
      "image/png": "[encoded data removed]",
      "text/plain": [
       "<Figure size 432x288 with 1 Axes>"
      ]
     },
     "metadata": {
      "needs_background": "light"
     },
     "output_type": "display_data"
    }
   ],
   "source": [
    "test['Holding_Policy_Duration'].value_counts().plot(kind='bar')"
   ]
  },
  {
   "cell_type": "code",
   "execution_count": 15,
   "metadata": {
    "ExecuteTime": {
     "end_time": "2021-02-28T15:36:46.561983Z",
     "start_time": "2021-02-28T15:36:46.546358Z"
    }
   },
   "outputs": [],
   "source": [
    "train['Holding_Policy_Duration']=train['Holding_Policy_Duration'].where(train['Holding_Policy_Duration']!='14+',15)"
   ]
  },
  {
   "cell_type": "code",
   "execution_count": 16,
   "metadata": {
    "ExecuteTime": {
     "end_time": "2021-02-28T15:36:46.827658Z",
     "start_time": "2021-02-28T15:36:46.561983Z"
    }
   },
   "outputs": [],
   "source": [
    "test['Holding_Policy_Duration']=test['Holding_Policy_Duration'].where(test['Holding_Policy_Duration']!='14+',15)"
   ]
  },
  {
   "cell_type": "code",
   "execution_count": 17,
   "metadata": {
    "ExecuteTime": {
     "end_time": "2021-02-28T15:36:47.273840Z",
     "start_time": "2021-02-28T15:36:46.834663Z"
    }
   },
   "outputs": [],
   "source": [
    "random_sample=train['Holding_Policy_Duration'].dropna().sample(train['Holding_Policy_Duration'].isna().sum(),random_state=0)\n",
    "random_sample1=test['Holding_Policy_Duration'].dropna().sample(test['Holding_Policy_Duration'].isna().sum(),random_state=0)\n"
   ]
  },
  {
   "cell_type": "code",
   "execution_count": 18,
   "metadata": {
    "ExecuteTime": {
     "end_time": "2021-02-28T15:36:47.414448Z",
     "start_time": "2021-02-28T15:36:47.273840Z"
    }
   },
   "outputs": [],
   "source": [
    "random_sample1.index=test[test['Holding_Policy_Duration'].isnull()].index\n",
    "test.loc[test['Holding_Policy_Duration'].isnull(),'Holding_Policy_Duration']=random_sample1"
   ]
  },
  {
   "cell_type": "code",
   "execution_count": 19,
   "metadata": {
    "ExecuteTime": {
     "end_time": "2021-02-28T15:36:47.586318Z",
     "start_time": "2021-02-28T15:36:47.414448Z"
    }
   },
   "outputs": [],
   "source": [
    "##pandas need to have same index in order to merge the dataset\n",
    "random_sample.index=train[train['Holding_Policy_Duration'].isnull()].index\n",
    "train.loc[train['Holding_Policy_Duration'].isnull(),'Holding_Policy_Duration']=random_sample\n",
    "\n"
   ]
  },
  {
   "cell_type": "code",
   "execution_count": 20,
   "metadata": {
    "ExecuteTime": {
     "end_time": "2021-02-28T15:36:48.180079Z",
     "start_time": "2021-02-28T15:36:47.586318Z"
    }
   },
   "outputs": [
    {
     "data": {
      "text/plain": [
       "(0, 0)"
      ]
     },
     "execution_count": 20,
     "metadata": {},
     "output_type": "execute_result"
    }
   ],
   "source": [
    "train['Holding_Policy_Duration'].isna().sum(),test['Holding_Policy_Duration'].isna().sum()"
   ]
  },
  {
   "cell_type": "code",
   "execution_count": 21,
   "metadata": {
    "ExecuteTime": {
     "end_time": "2021-02-28T15:36:49.851387Z",
     "start_time": "2021-02-28T15:36:48.195703Z"
    }
   },
   "outputs": [
    {
     "data": {
      "text/plain": [
       "<AxesSubplot:xlabel='Holding_Policy_Duration', ylabel='count'>"
      ]
     },
     "execution_count": 21,
     "metadata": {},
     "output_type": "execute_result"
    },
    {
     "data": {
      "image/png": "[encoded data removed]",
      "text/plain": [
       "<Figure size 432x288 with 1 Axes>"
      ]
     },
     "metadata": {
      "needs_background": "light"
     },
     "output_type": "display_data"
    }
   ],
   "source": [
    "sns.countplot(x=train['Holding_Policy_Duration'],hue=train['Response'])"
   ]
  },
  {
   "cell_type": "markdown",
   "metadata": {},
   "source": [
    "### 3. Health Indicator\n",
    "filling the missing values with random sample imputation"
   ]
  },
  {
   "cell_type": "code",
   "execution_count": 22,
   "metadata": {
    "ExecuteTime": {
     "end_time": "2021-02-28T15:36:50.711808Z",
     "start_time": "2021-02-28T15:36:49.854386Z"
    }
   },
   "outputs": [
    {
     "data": {
      "text/plain": [
       "<AxesSubplot:>"
      ]
     },
     "execution_count": 22,
     "metadata": {},
     "output_type": "execute_result"
    },
    {
     "data": {
      "image/png": "[encoded data removed]",
      "text/plain": [
       "<Figure size 432x288 with 1 Axes>"
      ]
     },
     "metadata": {
      "needs_background": "light"
     },
     "output_type": "display_data"
    }
   ],
   "source": [
    "train['Health Indicator'].value_counts().plot(kind='bar')"
   ]
  },
  {
   "cell_type": "code",
   "execution_count": 23,
   "metadata": {
    "ExecuteTime": {
     "end_time": "2021-02-28T15:36:52.462405Z",
     "start_time": "2021-02-28T15:36:50.727432Z"
    }
   },
   "outputs": [
    {
     "data": {
      "text/plain": [
       "<AxesSubplot:>"
      ]
     },
     "execution_count": 23,
     "metadata": {},
     "output_type": "execute_result"
    },
    {
     "data": {
      "image/png": "[encoded data removed]",
      "text/plain": [
       "<Figure size 432x288 with 1 Axes>"
      ]
     },
     "metadata": {
      "needs_background": "light"
     },
     "output_type": "display_data"
    }
   ],
   "source": [
    "test['Health Indicator'].value_counts().plot(kind='bar')"
   ]
  },
  {
   "cell_type": "code",
   "execution_count": 24,
   "metadata": {
    "ExecuteTime": {
     "end_time": "2021-02-28T15:36:52.880006Z",
     "start_time": "2021-02-28T15:36:52.478029Z"
    }
   },
   "outputs": [],
   "source": [
    "train['Health Indicator']=train['Health Indicator'].fillna(train['Health Indicator'].mode()[0])"
   ]
  },
  {
   "cell_type": "code",
   "execution_count": 25,
   "metadata": {
    "ExecuteTime": {
     "end_time": "2021-02-28T15:36:53.098759Z",
     "start_time": "2021-02-28T15:36:52.880006Z"
    }
   },
   "outputs": [],
   "source": [
    "test['Health Indicator']=test['Health Indicator'].fillna(test['Health Indicator'].mode()[0])"
   ]
  },
  {
   "cell_type": "code",
   "execution_count": 26,
   "metadata": {
    "ExecuteTime": {
     "end_time": "2021-02-28T15:36:53.922670Z",
     "start_time": "2021-02-28T15:36:53.098759Z"
    }
   },
   "outputs": [
    {
     "data": {
      "text/plain": [
       "<AxesSubplot:>"
      ]
     },
     "execution_count": 26,
     "metadata": {},
     "output_type": "execute_result"
    },
    {
     "data": {
      "image/png": "[encoded data removed]",
      "text/plain": [
       "<Figure size 432x288 with 1 Axes>"
      ]
     },
     "metadata": {
      "needs_background": "light"
     },
     "output_type": "display_data"
    }
   ],
   "source": [
    "test['Health Indicator'].value_counts().plot(kind='bar')"
   ]
  },
  {
   "cell_type": "code",
   "execution_count": 27,
   "metadata": {
    "ExecuteTime": {
     "end_time": "2021-02-28T15:36:55.246627Z",
     "start_time": "2021-02-28T15:36:53.929674Z"
    }
   },
   "outputs": [
    {
     "data": {
      "text/plain": [
       "<AxesSubplot:xlabel='Health Indicator', ylabel='count'>"
      ]
     },
     "execution_count": 27,
     "metadata": {},
     "output_type": "execute_result"
    },
    {
     "data": {
      "image/png": "[encoded data removed]",
      "text/plain": [
       "<Figure size 432x288 with 1 Axes>"
      ]
     },
     "metadata": {
      "needs_background": "light"
     },
     "output_type": "display_data"
    }
   ],
   "source": [
    "sns.countplot(x=train['Health Indicator'],hue=train['Response'])"
   ]
  },
  {
   "cell_type": "code",
   "execution_count": 28,
   "metadata": {
    "ExecuteTime": {
     "end_time": "2021-02-28T15:36:55.774950Z",
     "start_time": "2021-02-28T15:36:55.246627Z"
    }
   },
   "outputs": [
    {
     "name": "stdout",
     "output_type": "stream",
     "text": [
      "<class 'pandas.core.frame.DataFrame'>\n",
      "RangeIndex: 50882 entries, 0 to 50881\n",
      "Data columns (total 14 columns):\n",
      " #   Column                   Non-Null Count  Dtype  \n",
      "---  ------                   --------------  -----  \n",
      " 0   ID                       50882 non-null  int64  \n",
      " 1   City_Code                50882 non-null  object \n",
      " 2   Region_Code              50882 non-null  int64  \n",
      " 3   Accomodation_Type        50882 non-null  object \n",
      " 4   Reco_Insurance_Type      50882 non-null  object \n",
      " 5   Upper_Age                50882 non-null  int64  \n",
      " 6   Lower_Age                50882 non-null  int64  \n",
      " 7   Is_Spouse                50882 non-null  object \n",
      " 8   Health Indicator         50882 non-null  object \n",
      " 9   Holding_Policy_Duration  50882 non-null  object \n",
      " 10  Holding_Policy_Type      50882 non-null  float64\n",
      " 11  Reco_Policy_Cat          50882 non-null  int64  \n",
      " 12  Reco_Policy_Premium      50882 non-null  float64\n",
      " 13  Response                 50882 non-null  int64  \n",
      "dtypes: float64(2), int64(6), object(6)\n",
      "memory usage: 5.4+ MB\n",
      "<class 'pandas.core.frame.DataFrame'>\n",
      "RangeIndex: 21805 entries, 0 to 21804\n",
      "Data columns (total 13 columns):\n",
      " #   Column                   Non-Null Count  Dtype  \n",
      "---  ------                   --------------  -----  \n",
      " 0   ID                       21805 non-null  int64  \n",
      " 1   City_Code                21805 non-null  object \n",
      " 2   Region_Code              21805 non-null  int64  \n",
      " 3   Accomodation_Type        21805 non-null  object \n",
      " 4   Reco_Insurance_Type      21805 non-null  object \n",
      " 5   Upper_Age                21805 non-null  int64  \n",
      " 6   Lower_Age                21805 non-null  int64  \n",
      " 7   Is_Spouse                21805 non-null  object \n",
      " 8   Health Indicator         21805 non-null  object \n",
      " 9   Holding_Policy_Duration  21805 non-null  object \n",
      " 10  Holding_Policy_Type      21805 non-null  float64\n",
      " 11  Reco_Policy_Cat          21805 non-null  int64  \n",
      " 12  Reco_Policy_Premium      21805 non-null  float64\n",
      "dtypes: float64(2), int64(5), object(6)\n",
      "memory usage: 2.2+ MB\n"
     ]
    },
    {
     "data": {
      "text/plain": [
       "(None, None)"
      ]
     },
     "execution_count": 28,
     "metadata": {},
     "output_type": "execute_result"
    }
   ],
   "source": [
    "train.info(),test.info()"
   ]
  },
  {
   "cell_type": "markdown",
   "metadata": {},
   "source": [
    "# 5.\n",
    "## Visualized representation of the relation between “Response” and other Features."
   ]
  },
  {
   "cell_type": "code",
   "execution_count": 29,
   "metadata": {
    "ExecuteTime": {
     "end_time": "2021-02-28T15:36:56.493712Z",
     "start_time": "2021-02-28T15:36:55.774950Z"
    }
   },
   "outputs": [
    {
     "name": "stderr",
     "output_type": "stream",
     "text": [
      "C:\\ProgramData\\Anaconda3\\lib\\site-packages\\seaborn\\_decorators.py:36: FutureWarning: Pass the following variable as a keyword arg: x. From version 0.12, the only valid positional argument will be `data`, and passing other arguments without an explicit keyword will result in an error or misinterpretation.\n",
      "  warnings.warn(\n"
     ]
    },
    {
     "data": {
      "text/plain": [
       "<AxesSubplot:xlabel='Accomodation_Type', ylabel='count'>"
      ]
     },
     "execution_count": 29,
     "metadata": {},
     "output_type": "execute_result"
    },
    {
     "data": {
      "image/png": "[encoded data removed]",
      "text/plain": [
       "<Figure size 576x360 with 1 Axes>"
      ]
     },
     "metadata": {
      "needs_background": "light"
     },
     "output_type": "display_data"
    }
   ],
   "source": [
    "plt.figure(figsize=(8,5))\n",
    "sns.countplot('Accomodation_Type',data=train,palette='summer',hue='Response')"
   ]
  },
  {
   "cell_type": "code",
   "execution_count": 30,
   "metadata": {
    "ExecuteTime": {
     "end_time": "2021-02-28T15:36:57.196848Z",
     "start_time": "2021-02-28T15:36:56.493712Z"
    }
   },
   "outputs": [
    {
     "name": "stderr",
     "output_type": "stream",
     "text": [
      "C:\\ProgramData\\Anaconda3\\lib\\site-packages\\seaborn\\_decorators.py:36: FutureWarning: Pass the following variable as a keyword arg: x. From version 0.12, the only valid positional argument will be `data`, and passing other arguments without an explicit keyword will result in an error or misinterpretation.\n",
      "  warnings.warn(\n"
     ]
    },
    {
     "data": {
      "text/plain": [
       "<AxesSubplot:xlabel='Health Indicator', ylabel='count'>"
      ]
     },
     "execution_count": 30,
     "metadata": {},
     "output_type": "execute_result"
    },
    {
     "data": {
      "image/png": "[encoded data removed]",
      "text/plain": [
       "<Figure size 576x360 with 1 Axes>"
      ]
     },
     "metadata": {
      "needs_background": "light"
     },
     "output_type": "display_data"
    }
   ],
   "source": [
    "plt.figure(figsize=(8,5))\n",
    "sns.countplot('Health Indicator',data=train,palette='summer',hue='Response')"
   ]
  },
  {
   "cell_type": "code",
   "execution_count": 31,
   "metadata": {
    "ExecuteTime": {
     "end_time": "2021-02-28T15:36:58.159832Z",
     "start_time": "2021-02-28T15:36:57.196848Z"
    }
   },
   "outputs": [
    {
     "name": "stderr",
     "output_type": "stream",
     "text": [
      "C:\\ProgramData\\Anaconda3\\lib\\site-packages\\seaborn\\_decorators.py:36: FutureWarning: Pass the following variable as a keyword arg: x. From version 0.12, the only valid positional argument will be `data`, and passing other arguments without an explicit keyword will result in an error or misinterpretation.\n",
      "  warnings.warn(\n"
     ]
    },
    {
     "data": {
      "text/plain": [
       "<AxesSubplot:xlabel='Holding_Policy_Duration', ylabel='count'>"
      ]
     },
     "execution_count": 31,
     "metadata": {},
     "output_type": "execute_result"
    },
    {
     "data": {
      "image/png": "[encoded data removed]",
      "text/plain": [
       "<Figure size 576x360 with 1 Axes>"
      ]
     },
     "metadata": {
      "needs_background": "light"
     },
     "output_type": "display_data"
    }
   ],
   "source": [
    "plt.figure(figsize=(8,5))\n",
    "sns.countplot('Holding_Policy_Duration',data=train,palette='summer',hue='Response')"
   ]
  },
  {
   "cell_type": "code",
   "execution_count": 32,
   "metadata": {
    "ExecuteTime": {
     "end_time": "2021-02-28T15:36:58.758258Z",
     "start_time": "2021-02-28T15:36:58.164839Z"
    }
   },
   "outputs": [
    {
     "name": "stderr",
     "output_type": "stream",
     "text": [
      "C:\\ProgramData\\Anaconda3\\lib\\site-packages\\seaborn\\_decorators.py:36: FutureWarning: Pass the following variable as a keyword arg: x. From version 0.12, the only valid positional argument will be `data`, and passing other arguments without an explicit keyword will result in an error or misinterpretation.\n",
      "  warnings.warn(\n"
     ]
    },
    {
     "data": {
      "text/plain": [
       "<AxesSubplot:xlabel='Reco_Insurance_Type', ylabel='count'>"
      ]
     },
     "execution_count": 32,
     "metadata": {},
     "output_type": "execute_result"
    },
    {
     "data": {
      "image/png": "[encoded data removed]",
      "text/plain": [
       "<Figure size 576x360 with 1 Axes>"
      ]
     },
     "metadata": {
      "needs_background": "light"
     },
     "output_type": "display_data"
    }
   ],
   "source": [
    "plt.figure(figsize=(8,5))\n",
    "sns.countplot('Reco_Insurance_Type',data=train,palette='summer',hue='Response')"
   ]
  },
  {
   "cell_type": "code",
   "execution_count": 33,
   "metadata": {
    "ExecuteTime": {
     "end_time": "2021-02-28T15:36:59.369552Z",
     "start_time": "2021-02-28T15:36:58.763262Z"
    }
   },
   "outputs": [
    {
     "name": "stderr",
     "output_type": "stream",
     "text": [
      "C:\\ProgramData\\Anaconda3\\lib\\site-packages\\seaborn\\_decorators.py:36: FutureWarning: Pass the following variable as a keyword arg: x. From version 0.12, the only valid positional argument will be `data`, and passing other arguments without an explicit keyword will result in an error or misinterpretation.\n",
      "  warnings.warn(\n"
     ]
    },
    {
     "data": {
      "text/plain": [
       "<AxesSubplot:xlabel='Holding_Policy_Type', ylabel='count'>"
      ]
     },
     "execution_count": 33,
     "metadata": {},
     "output_type": "execute_result"
    },
    {
     "data": {
      "image/png": "[encoded data removed]",
      "text/plain": [
       "<Figure size 576x360 with 1 Axes>"
      ]
     },
     "metadata": {
      "needs_background": "light"
     },
     "output_type": "display_data"
    }
   ],
   "source": [
    "plt.figure(figsize=(8,5))\n",
    "sns.countplot('Holding_Policy_Type',data=train,palette='summer',hue='Response')"
   ]
  },
  {
   "cell_type": "markdown",
   "metadata": {},
   "source": [
    "# 6\n",
    "## Preparing data for our model"
   ]
  },
  {
   "cell_type": "code",
   "execution_count": 34,
   "metadata": {
    "ExecuteTime": {
     "end_time": "2021-02-28T15:36:59.447672Z",
     "start_time": "2021-02-28T15:36:59.369552Z"
    }
   },
   "outputs": [],
   "source": [
    "# Dropping “ID” and “Region_Code”.\n",
    "train.drop(labels=['ID','Region_Code'],axis=1,inplace=True)\n",
    "test.drop(labels=['ID','Region_Code'],axis=1,inplace=True)"
   ]
  },
  {
   "cell_type": "code",
   "execution_count": 35,
   "metadata": {
    "ExecuteTime": {
     "end_time": "2021-02-28T15:36:59.822106Z",
     "start_time": "2021-02-28T15:36:59.447672Z"
    }
   },
   "outputs": [],
   "source": [
    "train['Holding_Policy_Duration']=train['Holding_Policy_Duration'].astype('float64')\n",
    "test['Holding_Policy_Duration']=test['Holding_Policy_Duration'].astype('float64')"
   ]
  },
  {
   "cell_type": "code",
   "execution_count": 36,
   "metadata": {
    "ExecuteTime": {
     "end_time": "2021-02-28T15:36:59.965851Z",
     "start_time": "2021-02-28T15:36:59.828092Z"
    }
   },
   "outputs": [],
   "source": [
    "'''  Separating dependent and independent variable.\n",
    "        X=independent\n",
    "        Y=dependent                    '''\n",
    "y=train.Response\n",
    "x=train.drop(labels=['Response'],axis=1)"
   ]
  },
  {
   "cell_type": "code",
   "execution_count": 37,
   "metadata": {
    "ExecuteTime": {
     "end_time": "2021-02-28T15:37:00.668989Z",
     "start_time": "2021-02-28T15:36:59.965851Z"
    }
   },
   "outputs": [],
   "source": [
    "\n",
    "le = LabelEncoder()\n",
    "var_mod = ['City_Code','Accomodation_Type','Reco_Insurance_Type','Is_Spouse','Health Indicator','Holding_Policy_Type']\n",
    "le = LabelEncoder()\n",
    "for i in var_mod:\n",
    "    x[i] = le.fit_transform(x[i])\n",
    "    test[i] = le.fit_transform(test[i])\n",
    "    \n",
    "#One Hot Coding:\n",
    "x = pd.get_dummies(x, columns=['City_Code','Accomodation_Type','Reco_Insurance_Type','Is_Spouse','Health Indicator','Holding_Policy_Type'])\n",
    "test = pd.get_dummies(test, columns=['City_Code','Accomodation_Type','Reco_Insurance_Type','Is_Spouse','Health Indicator','Holding_Policy_Type'])"
   ]
  },
  {
   "cell_type": "code",
   "execution_count": 38,
   "metadata": {
    "ExecuteTime": {
     "end_time": "2021-02-28T15:37:00.969208Z",
     "start_time": "2021-02-28T15:37:00.668989Z"
    }
   },
   "outputs": [
    {
     "name": "stdout",
     "output_type": "stream",
     "text": [
      "<class 'pandas.core.frame.DataFrame'>\n",
      "RangeIndex: 50882 entries, 0 to 50881\n",
      "Data columns (total 60 columns):\n",
      " #   Column                   Non-Null Count  Dtype  \n",
      "---  ------                   --------------  -----  \n",
      " 0   Upper_Age                50882 non-null  int64  \n",
      " 1   Lower_Age                50882 non-null  int64  \n",
      " 2   Holding_Policy_Duration  50882 non-null  float64\n",
      " 3   Reco_Policy_Cat          50882 non-null  int64  \n",
      " 4   Reco_Policy_Premium      50882 non-null  float64\n",
      " 5   City_Code_0              50882 non-null  uint8  \n",
      " 6   City_Code_1              50882 non-null  uint8  \n",
      " 7   City_Code_2              50882 non-null  uint8  \n",
      " 8   City_Code_3              50882 non-null  uint8  \n",
      " 9   City_Code_4              50882 non-null  uint8  \n",
      " 10  City_Code_5              50882 non-null  uint8  \n",
      " 11  City_Code_6              50882 non-null  uint8  \n",
      " 12  City_Code_7              50882 non-null  uint8  \n",
      " 13  City_Code_8              50882 non-null  uint8  \n",
      " 14  City_Code_9              50882 non-null  uint8  \n",
      " 15  City_Code_10             50882 non-null  uint8  \n",
      " 16  City_Code_11             50882 non-null  uint8  \n",
      " 17  City_Code_12             50882 non-null  uint8  \n",
      " 18  City_Code_13             50882 non-null  uint8  \n",
      " 19  City_Code_14             50882 non-null  uint8  \n",
      " 20  City_Code_15             50882 non-null  uint8  \n",
      " 21  City_Code_16             50882 non-null  uint8  \n",
      " 22  City_Code_17             50882 non-null  uint8  \n",
      " 23  City_Code_18             50882 non-null  uint8  \n",
      " 24  City_Code_19             50882 non-null  uint8  \n",
      " 25  City_Code_20             50882 non-null  uint8  \n",
      " 26  City_Code_21             50882 non-null  uint8  \n",
      " 27  City_Code_22             50882 non-null  uint8  \n",
      " 28  City_Code_23             50882 non-null  uint8  \n",
      " 29  City_Code_24             50882 non-null  uint8  \n",
      " 30  City_Code_25             50882 non-null  uint8  \n",
      " 31  City_Code_26             50882 non-null  uint8  \n",
      " 32  City_Code_27             50882 non-null  uint8  \n",
      " 33  City_Code_28             50882 non-null  uint8  \n",
      " 34  City_Code_29             50882 non-null  uint8  \n",
      " 35  City_Code_30             50882 non-null  uint8  \n",
      " 36  City_Code_31             50882 non-null  uint8  \n",
      " 37  City_Code_32             50882 non-null  uint8  \n",
      " 38  City_Code_33             50882 non-null  uint8  \n",
      " 39  City_Code_34             50882 non-null  uint8  \n",
      " 40  City_Code_35             50882 non-null  uint8  \n",
      " 41  Accomodation_Type_0      50882 non-null  uint8  \n",
      " 42  Accomodation_Type_1      50882 non-null  uint8  \n",
      " 43  Reco_Insurance_Type_0    50882 non-null  uint8  \n",
      " 44  Reco_Insurance_Type_1    50882 non-null  uint8  \n",
      " 45  Is_Spouse_0              50882 non-null  uint8  \n",
      " 46  Is_Spouse_1              50882 non-null  uint8  \n",
      " 47  Health Indicator_0       50882 non-null  uint8  \n",
      " 48  Health Indicator_1       50882 non-null  uint8  \n",
      " 49  Health Indicator_2       50882 non-null  uint8  \n",
      " 50  Health Indicator_3       50882 non-null  uint8  \n",
      " 51  Health Indicator_4       50882 non-null  uint8  \n",
      " 52  Health Indicator_5       50882 non-null  uint8  \n",
      " 53  Health Indicator_6       50882 non-null  uint8  \n",
      " 54  Health Indicator_7       50882 non-null  uint8  \n",
      " 55  Health Indicator_8       50882 non-null  uint8  \n",
      " 56  Holding_Policy_Type_0    50882 non-null  uint8  \n",
      " 57  Holding_Policy_Type_1    50882 non-null  uint8  \n",
      " 58  Holding_Policy_Type_2    50882 non-null  uint8  \n",
      " 59  Holding_Policy_Type_3    50882 non-null  uint8  \n",
      "dtypes: float64(2), int64(3), uint8(55)\n",
      "memory usage: 4.6 MB\n",
      "<class 'pandas.core.frame.DataFrame'>\n",
      "RangeIndex: 21805 entries, 0 to 21804\n",
      "Data columns (total 60 columns):\n",
      " #   Column                   Non-Null Count  Dtype  \n",
      "---  ------                   --------------  -----  \n",
      " 0   Upper_Age                21805 non-null  int64  \n",
      " 1   Lower_Age                21805 non-null  int64  \n",
      " 2   Holding_Policy_Duration  21805 non-null  float64\n",
      " 3   Reco_Policy_Cat          21805 non-null  int64  \n",
      " 4   Reco_Policy_Premium      21805 non-null  float64\n",
      " 5   City_Code_0              21805 non-null  uint8  \n",
      " 6   City_Code_1              21805 non-null  uint8  \n",
      " 7   City_Code_2              21805 non-null  uint8  \n",
      " 8   City_Code_3              21805 non-null  uint8  \n",
      " 9   City_Code_4              21805 non-null  uint8  \n",
      " 10  City_Code_5              21805 non-null  uint8  \n",
      " 11  City_Code_6              21805 non-null  uint8  \n",
      " 12  City_Code_7              21805 non-null  uint8  \n",
      " 13  City_Code_8              21805 non-null  uint8  \n",
      " 14  City_Code_9              21805 non-null  uint8  \n",
      " 15  City_Code_10             21805 non-null  uint8  \n",
      " 16  City_Code_11             21805 non-null  uint8  \n",
      " 17  City_Code_12             21805 non-null  uint8  \n",
      " 18  City_Code_13             21805 non-null  uint8  \n",
      " 19  City_Code_14             21805 non-null  uint8  \n",
      " 20  City_Code_15             21805 non-null  uint8  \n",
      " 21  City_Code_16             21805 non-null  uint8  \n",
      " 22  City_Code_17             21805 non-null  uint8  \n",
      " 23  City_Code_18             21805 non-null  uint8  \n",
      " 24  City_Code_19             21805 non-null  uint8  \n",
      " 25  City_Code_20             21805 non-null  uint8  \n",
      " 26  City_Code_21             21805 non-null  uint8  \n",
      " 27  City_Code_22             21805 non-null  uint8  \n",
      " 28  City_Code_23             21805 non-null  uint8  \n",
      " 29  City_Code_24             21805 non-null  uint8  \n",
      " 30  City_Code_25             21805 non-null  uint8  \n",
      " 31  City_Code_26             21805 non-null  uint8  \n",
      " 32  City_Code_27             21805 non-null  uint8  \n",
      " 33  City_Code_28             21805 non-null  uint8  \n",
      " 34  City_Code_29             21805 non-null  uint8  \n",
      " 35  City_Code_30             21805 non-null  uint8  \n",
      " 36  City_Code_31             21805 non-null  uint8  \n",
      " 37  City_Code_32             21805 non-null  uint8  \n",
      " 38  City_Code_33             21805 non-null  uint8  \n",
      " 39  City_Code_34             21805 non-null  uint8  \n",
      " 40  City_Code_35             21805 non-null  uint8  \n",
      " 41  Accomodation_Type_0      21805 non-null  uint8  \n",
      " 42  Accomodation_Type_1      21805 non-null  uint8  \n",
      " 43  Reco_Insurance_Type_0    21805 non-null  uint8  \n",
      " 44  Reco_Insurance_Type_1    21805 non-null  uint8  \n",
      " 45  Is_Spouse_0              21805 non-null  uint8  \n",
      " 46  Is_Spouse_1              21805 non-null  uint8  \n",
      " 47  Health Indicator_0       21805 non-null  uint8  \n",
      " 48  Health Indicator_1       21805 non-null  uint8  \n",
      " 49  Health Indicator_2       21805 non-null  uint8  \n",
      " 50  Health Indicator_3       21805 non-null  uint8  \n",
      " 51  Health Indicator_4       21805 non-null  uint8  \n",
      " 52  Health Indicator_5       21805 non-null  uint8  \n",
      " 53  Health Indicator_6       21805 non-null  uint8  \n",
      " 54  Health Indicator_7       21805 non-null  uint8  \n",
      " 55  Health Indicator_8       21805 non-null  uint8  \n",
      " 56  Holding_Policy_Type_0    21805 non-null  uint8  \n",
      " 57  Holding_Policy_Type_1    21805 non-null  uint8  \n",
      " 58  Holding_Policy_Type_2    21805 non-null  uint8  \n",
      " 59  Holding_Policy_Type_3    21805 non-null  uint8  \n",
      "dtypes: float64(2), int64(3), uint8(55)\n",
      "memory usage: 2.0 MB\n"
     ]
    },
    {
     "data": {
      "text/plain": [
       "(None, None)"
      ]
     },
     "execution_count": 38,
     "metadata": {},
     "output_type": "execute_result"
    }
   ],
   "source": [
    "x.info(),test.info()"
   ]
  },
  {
   "cell_type": "code",
   "execution_count": 39,
   "metadata": {
    "ExecuteTime": {
     "end_time": "2021-02-28T15:37:01.204371Z",
     "start_time": "2021-02-28T15:37:00.974209Z"
    }
   },
   "outputs": [],
   "source": [
    "x = x.select_dtypes(exclude='object')\n",
    "test = test.select_dtypes(exclude='object')"
   ]
  },
  {
   "cell_type": "code",
   "execution_count": 40,
   "metadata": {
    "ExecuteTime": {
     "end_time": "2021-02-28T15:37:01.530604Z",
     "start_time": "2021-02-28T15:37:01.208376Z"
    }
   },
   "outputs": [
    {
     "data": {
      "text/plain": [
       "((50882, 60), (21805, 60))"
      ]
     },
     "execution_count": 40,
     "metadata": {},
     "output_type": "execute_result"
    }
   ],
   "source": [
    "x.shape,test.shape"
   ]
  },
  {
   "cell_type": "code",
   "execution_count": 41,
   "metadata": {
    "ExecuteTime": {
     "end_time": "2021-02-28T15:37:02.063935Z",
     "start_time": "2021-02-28T15:37:01.532656Z"
    }
   },
   "outputs": [],
   "source": [
    "# 20% data as validation set\n",
    "from sklearn.model_selection import train_test_split\n",
    "Xtrain,Xvalid,ytrain,yvalid = train_test_split(x,y,test_size=0.2,random_state=22)\n"
   ]
  },
  {
   "cell_type": "code",
   "execution_count": 42,
   "metadata": {
    "ExecuteTime": {
     "end_time": "2021-02-28T15:37:02.981452Z",
     "start_time": "2021-02-28T15:37:02.063935Z"
    }
   },
   "outputs": [
    {
     "name": "stderr",
     "output_type": "stream",
     "text": [
      "C:\\ProgramData\\Anaconda3\\lib\\site-packages\\seaborn\\_decorators.py:36: FutureWarning: Pass the following variable as a keyword arg: x. From version 0.12, the only valid positional argument will be `data`, and passing other arguments without an explicit keyword will result in an error or misinterpretation.\n",
      "  warnings.warn(\n"
     ]
    },
    {
     "data": {
      "text/plain": [
       "<AxesSubplot:xlabel='Response', ylabel='count'>"
      ]
     },
     "execution_count": 42,
     "metadata": {},
     "output_type": "execute_result"
    },
    {
     "data": {
      "image/png": "[encoded data removed]",
      "text/plain": [
       "<Figure size 432x288 with 1 Axes>"
      ]
     },
     "metadata": {
      "needs_background": "light"
     },
     "output_type": "display_data"
    }
   ],
   "source": [
    "sns.countplot(yvalid)"
   ]
  },
  {
   "cell_type": "markdown",
   "metadata": {
    "ExecuteTime": {
     "end_time": "2021-02-28T08:30:56.216429Z",
     "start_time": "2021-02-28T08:30:54.617948Z"
    }
   },
   "source": [
    "# 7.\n",
    "## Applying {' Logistic Regression ' , ' K Neighbors Regressor ' ,  ' Decision Tree Regressor '} methods to our datasets."
   ]
  },
  {
   "cell_type": "code",
   "execution_count": 43,
   "metadata": {
    "ExecuteTime": {
     "end_time": "2021-02-28T15:37:02.995462Z",
     "start_time": "2021-02-28T15:37:02.986456Z"
    }
   },
   "outputs": [],
   "source": [
    "algos = [LogisticRegression(),KNeighborsRegressor(), DecisionTreeRegressor()]\n",
    "\n",
    "names = ['LogisticRegression','K Neighbors Regressor', 'Decision Tree Regressor']\n",
    "\n",
    "roc_auc_list = []\n"
   ]
  },
  {
   "cell_type": "code",
   "execution_count": 44,
   "metadata": {
    "ExecuteTime": {
     "end_time": "2021-02-28T15:37:12.252206Z",
     "start_time": "2021-02-28T15:37:03.000466Z"
    }
   },
   "outputs": [],
   "source": [
    "for name in algos:\n",
    "    model = name\n",
    "    model.fit(Xtrain, ytrain)\n",
    "    y_pred = model.predict(Xvalid)\n",
    "    rc= roc_auc_score(yvalid, y_pred)\n",
    "    roc_auc_list.append(rc)\n",
    "\n",
    "   \n"
   ]
  },
  {
   "cell_type": "code",
   "execution_count": 45,
   "metadata": {
    "ExecuteTime": {
     "end_time": "2021-02-28T15:37:12.299081Z",
     "start_time": "2021-02-28T15:37:12.252206Z"
    }
   },
   "outputs": [],
   "source": [
    "evaluation = pd.DataFrame({'Model': names,\n",
    "                           'RMSE': roc_auc_list})"
   ]
  },
  {
   "cell_type": "code",
   "execution_count": 46,
   "metadata": {
    "ExecuteTime": {
     "end_time": "2021-02-28T15:37:12.566278Z",
     "start_time": "2021-02-28T15:37:12.299081Z"
    }
   },
   "outputs": [
    {
     "data": {
      "text/html": [
       "<div>\n",
       "<style scoped>\n",
       "    .dataframe tbody tr th:only-of-type {\n",
       "        vertical-align: middle;\n",
       "    }\n",
       "\n",
       "    .dataframe tbody tr th {\n",
       "        vertical-align: top;\n",
       "    }\n",
       "\n",
       "    .dataframe thead th {\n",
       "        text-align: right;\n",
       "    }\n",
       "</style>\n",
       "<table border=\"1\" class=\"dataframe\">\n",
       "  <thead>\n",
       "    <tr style=\"text-align: right;\">\n",
       "      <th></th>\n",
       "      <th>Model</th>\n",
       "      <th>RMSE</th>\n",
       "    </tr>\n",
       "  </thead>\n",
       "  <tbody>\n",
       "    <tr>\n",
       "      <th>0</th>\n",
       "      <td>LogisticRegression</td>\n",
       "      <td>0.500000</td>\n",
       "    </tr>\n",
       "    <tr>\n",
       "      <th>1</th>\n",
       "      <td>K Neighbors Regressor</td>\n",
       "      <td>0.508685</td>\n",
       "    </tr>\n",
       "    <tr>\n",
       "      <th>2</th>\n",
       "      <td>Decision Tree Regressor</td>\n",
       "      <td>0.545194</td>\n",
       "    </tr>\n",
       "  </tbody>\n",
       "</table>\n",
       "</div>"
      ],
      "text/plain": [
       "                     Model      RMSE\n",
       "0       LogisticRegression  0.500000\n",
       "1    K Neighbors Regressor  0.508685\n",
       "2  Decision Tree Regressor  0.545194"
      ]
     },
     "execution_count": 46,
     "metadata": {},
     "output_type": "execute_result"
    }
   ],
   "source": [
    "evaluation"
   ]
  },
  {
   "cell_type": "code",
   "execution_count": 47,
   "metadata": {
    "ExecuteTime": {
     "end_time": "2021-02-28T15:37:15.636198Z",
     "start_time": "2021-02-28T15:37:12.571281Z"
    }
   },
   "outputs": [],
   "source": [
    "submission = pd.read_csv('sample_submission_QrCyCoT.csv')\n",
    "model = DecisionTreeRegressor()\n",
    "model.fit(x,y)\n",
    "final_predictions = model.predict(test)\n",
    "submission['Response'] = final_predictions"
   ]
  },
  {
   "cell_type": "code",
   "execution_count": 48,
   "metadata": {
    "ExecuteTime": {
     "end_time": "2021-02-28T15:37:15.864361Z",
     "start_time": "2021-02-28T15:37:15.639202Z"
    }
   },
   "outputs": [
    {
     "name": "stderr",
     "output_type": "stream",
     "text": [
      "C:\\ProgramData\\Anaconda3\\lib\\site-packages\\seaborn\\_decorators.py:36: FutureWarning: Pass the following variable as a keyword arg: x. From version 0.12, the only valid positional argument will be `data`, and passing other arguments without an explicit keyword will result in an error or misinterpretation.\n",
      "  warnings.warn(\n"
     ]
    },
    {
     "data": {
      "text/plain": [
       "<AxesSubplot:ylabel='count'>"
      ]
     },
     "execution_count": 48,
     "metadata": {},
     "output_type": "execute_result"
    },
    {
     "data": {
      "image/png": "[encoded data removed]",
      "text/plain": [
       "<Figure size 432x288 with 1 Axes>"
      ]
     },
     "metadata": {
      "needs_background": "light"
     },
     "output_type": "display_data"
    }
   ],
   "source": [
    "sns.countplot(final_predictions)"
   ]
  },
  {
   "cell_type": "markdown",
   "metadata": {},
   "source": [
    "# 8.\t\n",
    "## Calculating (roc_auc_score) to each model and selecting one with highest score."
   ]
  },
  {
   "cell_type": "code",
   "execution_count": 49,
   "metadata": {
    "ExecuteTime": {
     "end_time": "2021-02-28T15:37:17.120718Z",
     "start_time": "2021-02-28T15:37:15.868365Z"
    }
   },
   "outputs": [],
   "source": [
    "    model = DecisionTreeRegressor()\n",
    "    model.fit(Xtrain, ytrain)\n",
    "    y_pred = model.predict(Xvalid)\n",
    "    rc= roc_auc_score(yvalid, y_pred)\n",
    "    roc_auc_list.append(rc)\n",
    "\n",
    "    cmv = confusion_matrix(yvalid, y_pred)"
   ]
  },
  {
   "cell_type": "code",
   "execution_count": 50,
   "metadata": {
    "ExecuteTime": {
     "end_time": "2021-02-28T15:37:17.150742Z",
     "start_time": "2021-02-28T15:37:17.124722Z"
    },
    "scrolled": true
   },
   "outputs": [
    {
     "data": {
      "text/plain": [
       "array([[5949, 1788],\n",
       "       [1655,  785]], dtype=int64)"
      ]
     },
     "execution_count": 50,
     "metadata": {},
     "output_type": "execute_result"
    }
   ],
   "source": [
    "cmv"
   ]
  },
  {
   "cell_type": "markdown",
   "metadata": {},
   "source": [
    "# 9.\n",
    "## Final submission."
   ]
  },
  {
   "cell_type": "code",
   "execution_count": 51,
   "metadata": {
    "ExecuteTime": {
     "end_time": "2021-02-28T15:37:19.110151Z",
     "start_time": "2021-02-28T15:37:17.154745Z"
    }
   },
   "outputs": [],
   "source": [
    "submission.to_csv('my_submission.csv', index=False)"
   ]
  },
  {
   "cell_type": "code",
   "execution_count": null,
   "metadata": {},
   "outputs": [],
   "source": []
  },
  {
   "cell_type": "code",
   "execution_count": null,
   "metadata": {},
   "outputs": [],
   "source": []
  },
  {
   "cell_type": "code",
   "execution_count": null,
   "metadata": {},
   "outputs": [],
   "source": []
  },
  {
   "cell_type": "code",
   "execution_count": null,
   "metadata": {},
   "outputs": [],
   "source": []
  },
  {
   "cell_type": "code",
   "execution_count": null,
   "metadata": {},
   "outputs": [],
   "source": []
  }
 ],
 "metadata": {
  "kernelspec": {
   "display_name": "Python 3",
   "language": "python",
   "name": "python3"
  },
  "language_info": {
   "codemirror_mode": {
    "name": "ipython",
    "version": 3
   },
   "file_extension": ".py",
   "mimetype": "text/x-python",
   "name": "python",
   "nbconvert_exporter": "python",
   "pygments_lexer": "ipython3",
   "version": "3.8.5"
  },
  "latex_envs": {
   "LaTeX_envs_menu_present": true,
   "autoclose": false,
   "autocomplete": true,
   "bibliofile": "biblio.bib",
   "cite_by": "apalike",
   "current_citInitial": 1,
   "eqLabelWithNumbers": true,
   "eqNumInitial": 1,
   "hotkeys": {
    "equation": "Ctrl-E",
    "itemize": "Ctrl-I"
   },
   "labels_anchors": false,
   "latex_user_defs": false,
   "report_style_numbering": false,
   "user_envs_cfg": false
  }
 },
 "nbformat": 4,
 "nbformat_minor": 4
}
